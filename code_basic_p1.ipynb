{
 "cells": [
  {
   "cell_type": "code",
   "execution_count": 1,
   "id": "ec6568a4",
   "metadata": {
    "execution": {
     "iopub.execute_input": "2024-08-26T17:31:08.133137Z",
     "iopub.status.busy": "2024-08-26T17:31:08.132697Z",
     "iopub.status.idle": "2024-08-26T17:31:15.806948Z",
     "shell.execute_reply": "2024-08-26T17:31:15.805955Z"
    },
    "id": "56pXnW8R37oQ",
    "papermill": {
     "duration": 7.685441,
     "end_time": "2024-08-26T17:31:15.809308",
     "exception": false,
     "start_time": "2024-08-26T17:31:08.123867",
     "status": "completed"
    },
    "tags": []
   },
   "outputs": [],
   "source": [
    "# 라이브러리 임포트\n",
    "import os\n",
    "import random\n",
    "from PIL import Image\n",
    "\n",
    "import numpy as np\n",
    "import pandas as pd\n",
    "\n",
    "import torch\n",
    "import torch.nn as nn\n",
    "from torch.utils.data import TensorDataset, DataLoader\n",
    "\n",
    "from tqdm import tqdm\n",
    "\n",
    "from sklearn.metrics import accuracy_score\n",
    "\n",
    "import torchvision\n",
    "from torchvision.models import VGG16_Weights\n",
    "from torchvision.transforms import v2"
   ]
  },
  {
   "cell_type": "code",
   "execution_count": 2,
   "id": "a4bd3bd0",
   "metadata": {
    "execution": {
     "iopub.execute_input": "2024-08-26T17:31:15.824483Z",
     "iopub.status.busy": "2024-08-26T17:31:15.824079Z",
     "iopub.status.idle": "2024-08-26T17:31:15.828778Z",
     "shell.execute_reply": "2024-08-26T17:31:15.827967Z"
    },
    "id": "Fr3aV9B237oR",
    "papermill": {
     "duration": 0.014152,
     "end_time": "2024-08-26T17:31:15.830522",
     "exception": false,
     "start_time": "2024-08-26T17:31:15.816370",
     "status": "completed"
    },
    "tags": []
   },
   "outputs": [],
   "source": [
    "# 하이퍼파라미터\n",
    "args = {\n",
    "    \"train_path\" : \"/kaggle/input/2024-outta-basic-p-1/train.csv\",      # train 데이터 경로\n",
    "    \"test_path\" : \"/kaggle/input/2024-outta-basic-p-1/test.csv\",       # test 데이터 경로\n",
    "    \"submit_path\" : \"/kaggle/input/2024-outta-basic-p-1/sample_submission.csv\",     # submit 파일 경로\n",
    "    \"batch_size\" : 64,\n",
    "    \"epochs\" : 10,\n",
    "    \"lr\" : 2e-5,\n",
    "    \"seed_val\" : 42         # 절대 수정하지 마세요.\n",
    "}"
   ]
  },
  {
   "cell_type": "code",
   "execution_count": 3,
   "id": "11617f89",
   "metadata": {
    "execution": {
     "iopub.execute_input": "2024-08-26T17:31:15.844828Z",
     "iopub.status.busy": "2024-08-26T17:31:15.844561Z",
     "iopub.status.idle": "2024-08-26T17:31:15.936245Z",
     "shell.execute_reply": "2024-08-26T17:31:15.935459Z"
    },
    "id": "XKpK8RBF37oR",
    "papermill": {
     "duration": 0.10134,
     "end_time": "2024-08-26T17:31:15.938456",
     "exception": false,
     "start_time": "2024-08-26T17:31:15.837116",
     "status": "completed"
    },
    "tags": []
   },
   "outputs": [],
   "source": [
    "# 랜덤시드 고정하기\n",
    "seed = args[\"seed_val\"]\n",
    "random.seed(seed)\n",
    "np.random.seed(seed)\n",
    "torch.manual_seed(seed)\n",
    "if torch.cuda.is_available() :\n",
    "    torch.cuda.manual_seed(seed)\n",
    "    torch.cuda.manual_seed_all(seed)\n",
    "torch.backends.cudnn.benchmark = False\n",
    "torch.backends.cudnn.deterministic = True\n",
    "\n",
    "# 디바이스 선택\n",
    "device = torch.device('cuda' if torch.cuda.is_available() else 'cpu')"
   ]
  },
  {
   "cell_type": "code",
   "execution_count": 4,
   "id": "8b02cd7e",
   "metadata": {
    "execution": {
     "iopub.execute_input": "2024-08-26T17:31:15.953181Z",
     "iopub.status.busy": "2024-08-26T17:31:15.952867Z",
     "iopub.status.idle": "2024-08-26T17:31:29.303095Z",
     "shell.execute_reply": "2024-08-26T17:31:29.302224Z"
    },
    "id": "sr6lq_GY37oR",
    "outputId": "1c4359e7-3467-42dd-ef35-66eab57dc634",
    "papermill": {
     "duration": 13.36014,
     "end_time": "2024-08-26T17:31:29.305492",
     "exception": false,
     "start_time": "2024-08-26T17:31:15.945352",
     "status": "completed"
    },
    "tags": []
   },
   "outputs": [
    {
     "name": "stdout",
     "output_type": "stream",
     "text": [
      "Collecting torchsummary\r\n",
      "  Downloading torchsummary-1.5.1-py3-none-any.whl.metadata (296 bytes)\r\n",
      "Downloading torchsummary-1.5.1-py3-none-any.whl (2.8 kB)\r\n",
      "Installing collected packages: torchsummary\r\n",
      "Successfully installed torchsummary-1.5.1\r\n"
     ]
    }
   ],
   "source": [
    "!pip install torchsummary ## model을 요약하기 위해 torchsummary 설치\n",
    "from torchsummary import summary as summary_## 모델 정보를 확인하기 위해 torchsummary 함수 import\n",
    "\n",
    "## 모델의 형태를 출력하기 위한 함수\n",
    "def summary_model(model, input_shape=(3,32,32)):\n",
    "    model = model.to(device)\n",
    "    summary_(model, input_shape) ## (model, (input shape))"
   ]
  },
  {
   "cell_type": "markdown",
   "id": "274f3fd2",
   "metadata": {
    "id": "5Uu2HxAP37oS",
    "papermill": {
     "duration": 0.006892,
     "end_time": "2024-08-26T17:31:29.319660",
     "exception": false,
     "start_time": "2024-08-26T17:31:29.312768",
     "status": "completed"
    },
    "tags": []
   },
   "source": [
    "# **1. 데이터셋**"
   ]
  },
  {
   "cell_type": "markdown",
   "id": "644ce6ea",
   "metadata": {
    "id": "B29LJ2Vt37oS",
    "papermill": {
     "duration": 0.006765,
     "end_time": "2024-08-26T17:31:29.333366",
     "exception": false,
     "start_time": "2024-08-26T17:31:29.326601",
     "status": "completed"
    },
    "tags": []
   },
   "source": [
    "## **(1) 데이터 불러오기 및 전처리**"
   ]
  },
  {
   "cell_type": "code",
   "execution_count": 5,
   "id": "e19f8db0",
   "metadata": {
    "execution": {
     "iopub.execute_input": "2024-08-26T17:31:29.348763Z",
     "iopub.status.busy": "2024-08-26T17:31:29.348420Z",
     "iopub.status.idle": "2024-08-26T17:31:34.328741Z",
     "shell.execute_reply": "2024-08-26T17:31:34.327772Z"
    },
    "id": "rsa1uBRY37oS",
    "papermill": {
     "duration": 4.991078,
     "end_time": "2024-08-26T17:31:34.331292",
     "exception": false,
     "start_time": "2024-08-26T17:31:29.340214",
     "status": "completed"
    },
    "tags": []
   },
   "outputs": [
    {
     "name": "stdout",
     "output_type": "stream",
     "text": [
      "torch.Size([27455, 3, 28, 28]) torch.Size([27455, 1]) torch.Size([7172, 3, 28, 28])\n"
     ]
    }
   ],
   "source": [
    "# 훈련 및 테스트 데이터 로드\n",
    "train = pd.read_csv(args['train_path'])\n",
    "test = pd.read_csv(args['test_path'])\n",
    "\n",
    "# (1-1) 훈련 데이터에서 특징(x_train)과 라벨(y_train) 분리\n",
    "x_train = train.iloc[:,1:]  # 첫 번째 열을 제외한 모든 열 (특징)\n",
    "y_train = train.iloc[:,:1]  # 'label' 열 (라벨)\n",
    "x_test = test  # 테스트 데이터\n",
    "\n",
    "\n",
    "# (1-2) numpy 배열로 변환 후, torch Tensor로 변환\n",
    "x_train = torch.tensor(x_train.to_numpy(),dtype=torch.float32)\n",
    "y_train = torch.tensor(y_train.to_numpy(),dtype=torch.float32)\n",
    "x_test = torch.tensor(x_test.to_numpy(),dtype=torch.float32)\n",
    "\n",
    "# (1-3) 데이터를 (N, H, W, C) 형태로 재구성 (reshape 함수 이용)\n",
    "x_train = x_train.reshape(-1,28,28,1)\n",
    "x_test = x_test.reshape(-1,28,28,1)\n",
    "\n",
    "# (1-4) 데이터를 (N, C, H, W) 형태로 변환 (permute 함수 이용)\n",
    "x_train = x_train.permute(0,3,1,2)\n",
    "x_test = x_test.permute(0,3,1,2)\n",
    "\n",
    "# (1-5) 데이터를 (N, 3, 28, 28) 형태로 변환 (expand 함수 이용)\n",
    "x_train = x_train.expand(-1,3,28,28)\n",
    "x_test =  x_test.expand(-1,3,28,28)\n",
    "\n",
    "print(x_train.shape, y_train.shape, x_test.shape)"
   ]
  },
  {
   "cell_type": "code",
   "execution_count": 6,
   "id": "368911b7",
   "metadata": {
    "execution": {
     "iopub.execute_input": "2024-08-26T17:31:34.346921Z",
     "iopub.status.busy": "2024-08-26T17:31:34.346611Z",
     "iopub.status.idle": "2024-08-26T17:31:34.353347Z",
     "shell.execute_reply": "2024-08-26T17:31:34.352544Z"
    },
    "id": "Vs-aMOLa37oT",
    "outputId": "b6c19125-1fd4-414c-cd14-5bfe38f110df",
    "papermill": {
     "duration": 0.016631,
     "end_time": "2024-08-26T17:31:34.355300",
     "exception": false,
     "start_time": "2024-08-26T17:31:34.338669",
     "status": "completed"
    },
    "tags": []
   },
   "outputs": [
    {
     "data": {
      "text/plain": [
       "torch.Size([27455, 3, 28, 28])"
      ]
     },
     "execution_count": 6,
     "metadata": {},
     "output_type": "execute_result"
    }
   ],
   "source": [
    "x_train.shape"
   ]
  },
  {
   "cell_type": "code",
   "execution_count": 7,
   "id": "261aea63",
   "metadata": {
    "execution": {
     "iopub.execute_input": "2024-08-26T17:31:34.371539Z",
     "iopub.status.busy": "2024-08-26T17:31:34.371277Z",
     "iopub.status.idle": "2024-08-26T17:31:34.376898Z",
     "shell.execute_reply": "2024-08-26T17:31:34.376086Z"
    },
    "id": "8edZ-3YH37oT",
    "outputId": "f420e4b5-984d-46af-b20a-376e9510ef45",
    "papermill": {
     "duration": 0.016371,
     "end_time": "2024-08-26T17:31:34.378808",
     "exception": false,
     "start_time": "2024-08-26T17:31:34.362437",
     "status": "completed"
    },
    "tags": []
   },
   "outputs": [
    {
     "data": {
      "text/plain": [
       "torch.Size([7172, 3, 28, 28])"
      ]
     },
     "execution_count": 7,
     "metadata": {},
     "output_type": "execute_result"
    }
   ],
   "source": [
    "x_test.shape"
   ]
  },
  {
   "cell_type": "markdown",
   "id": "30d17846",
   "metadata": {
    "id": "lTcVpy-m37oT",
    "papermill": {
     "duration": 0.007182,
     "end_time": "2024-08-26T17:31:34.393206",
     "exception": false,
     "start_time": "2024-08-26T17:31:34.386024",
     "status": "completed"
    },
    "tags": []
   },
   "source": [
    "## **(2) 데이터셋과 데이터로더**"
   ]
  },
  {
   "cell_type": "code",
   "execution_count": 8,
   "id": "00744ee8",
   "metadata": {
    "execution": {
     "iopub.execute_input": "2024-08-26T17:31:34.408812Z",
     "iopub.status.busy": "2024-08-26T17:31:34.408528Z",
     "iopub.status.idle": "2024-08-26T17:31:34.413840Z",
     "shell.execute_reply": "2024-08-26T17:31:34.413022Z"
    },
    "id": "JUuwyLnn37oT",
    "papermill": {
     "duration": 0.015246,
     "end_time": "2024-08-26T17:31:34.415720",
     "exception": false,
     "start_time": "2024-08-26T17:31:34.400474",
     "status": "completed"
    },
    "tags": []
   },
   "outputs": [],
   "source": [
    "# 훈련 및 테스트 데이터셋 로드\n",
    "train_dataset = TensorDataset(x_train, y_train)\n",
    "test_dataset = TensorDataset(x_test)\n",
    "\n",
    "# 데이터로더 정의\n",
    "train_dataloader = torch.utils.data.DataLoader(train_dataset, batch_size=args[\"batch_size\"], shuffle=True)\n",
    "test_dataloader = torch.utils.data.DataLoader(test_dataset, batch_size=1, shuffle=False)"
   ]
  },
  {
   "cell_type": "markdown",
   "id": "58a4fe75",
   "metadata": {
    "id": "O0VdhJFX37oT",
    "papermill": {
     "duration": 0.007128,
     "end_time": "2024-08-26T17:31:34.430136",
     "exception": false,
     "start_time": "2024-08-26T17:31:34.423008",
     "status": "completed"
    },
    "tags": []
   },
   "source": [
    "# **2. 모델**\n",
    "사전학습된 VGG16을 사용하여 프로젝트를 수행하세요."
   ]
  },
  {
   "cell_type": "markdown",
   "id": "2e921d5e",
   "metadata": {
    "id": "ZjE-vnDJ37oU",
    "papermill": {
     "duration": 0.007112,
     "end_time": "2024-08-26T17:31:34.444489",
     "exception": false,
     "start_time": "2024-08-26T17:31:34.437377",
     "status": "completed"
    },
    "tags": []
   },
   "source": [
    "## **(1) VGG16 특징 추출기를 불러오기**"
   ]
  },
  {
   "cell_type": "code",
   "execution_count": 9,
   "id": "b587a0d7",
   "metadata": {
    "execution": {
     "iopub.execute_input": "2024-08-26T17:31:34.460104Z",
     "iopub.status.busy": "2024-08-26T17:31:34.459834Z",
     "iopub.status.idle": "2024-08-26T17:31:40.445176Z",
     "shell.execute_reply": "2024-08-26T17:31:40.444328Z"
    },
    "id": "84YpG-br37oU",
    "outputId": "829e573b-7f84-47aa-d3d1-129b797ff848",
    "papermill": {
     "duration": 5.995918,
     "end_time": "2024-08-26T17:31:40.447772",
     "exception": false,
     "start_time": "2024-08-26T17:31:34.451854",
     "status": "completed"
    },
    "tags": []
   },
   "outputs": [
    {
     "name": "stderr",
     "output_type": "stream",
     "text": [
      "Downloading: \"https://download.pytorch.org/models/vgg16-397923af.pth\" to /root/.cache/torch/hub/checkpoints/vgg16-397923af.pth\n",
      "100%|██████████| 528M/528M [00:03<00:00, 160MB/s]\n"
     ]
    },
    {
     "name": "stdout",
     "output_type": "stream",
     "text": [
      "----------------------------------------------------------------\n",
      "        Layer (type)               Output Shape         Param #\n",
      "================================================================\n",
      "            Conv2d-1           [-1, 64, 32, 32]           1,792\n",
      "              ReLU-2           [-1, 64, 32, 32]               0\n",
      "            Conv2d-3           [-1, 64, 32, 32]          36,928\n",
      "              ReLU-4           [-1, 64, 32, 32]               0\n",
      "         MaxPool2d-5           [-1, 64, 16, 16]               0\n",
      "            Conv2d-6          [-1, 128, 16, 16]          73,856\n",
      "              ReLU-7          [-1, 128, 16, 16]               0\n",
      "            Conv2d-8          [-1, 128, 16, 16]         147,584\n",
      "              ReLU-9          [-1, 128, 16, 16]               0\n",
      "        MaxPool2d-10            [-1, 128, 8, 8]               0\n",
      "           Conv2d-11            [-1, 256, 8, 8]         295,168\n",
      "             ReLU-12            [-1, 256, 8, 8]               0\n",
      "           Conv2d-13            [-1, 256, 8, 8]         590,080\n",
      "             ReLU-14            [-1, 256, 8, 8]               0\n",
      "           Conv2d-15            [-1, 256, 8, 8]         590,080\n",
      "             ReLU-16            [-1, 256, 8, 8]               0\n",
      "        MaxPool2d-17            [-1, 256, 4, 4]               0\n",
      "           Conv2d-18            [-1, 512, 4, 4]       1,180,160\n",
      "             ReLU-19            [-1, 512, 4, 4]               0\n",
      "           Conv2d-20            [-1, 512, 4, 4]       2,359,808\n",
      "             ReLU-21            [-1, 512, 4, 4]               0\n",
      "           Conv2d-22            [-1, 512, 4, 4]       2,359,808\n",
      "             ReLU-23            [-1, 512, 4, 4]               0\n",
      "        MaxPool2d-24            [-1, 512, 2, 2]               0\n",
      "           Conv2d-25            [-1, 512, 2, 2]       2,359,808\n",
      "             ReLU-26            [-1, 512, 2, 2]               0\n",
      "           Conv2d-27            [-1, 512, 2, 2]       2,359,808\n",
      "             ReLU-28            [-1, 512, 2, 2]               0\n",
      "           Conv2d-29            [-1, 512, 2, 2]       2,359,808\n",
      "             ReLU-30            [-1, 512, 2, 2]               0\n",
      "        MaxPool2d-31            [-1, 512, 1, 1]               0\n",
      "AdaptiveAvgPool2d-32            [-1, 512, 1, 1]               0\n",
      "================================================================\n",
      "Total params: 14,714,688\n",
      "Trainable params: 14,714,688\n",
      "Non-trainable params: 0\n",
      "----------------------------------------------------------------\n",
      "Input size (MB): 0.01\n",
      "Forward/backward pass size (MB): 4.46\n",
      "Params size (MB): 56.13\n",
      "Estimated Total Size (MB): 60.60\n",
      "----------------------------------------------------------------\n"
     ]
    }
   ],
   "source": [
    "# (3-1) VGG16 모델 로드 및 특징 추출 부분 사용\n",
    "# 가중치는 'VGG16_Weights.IMAGENET1K_V1' 사용하세요.\n",
    "model = torchvision.models.vgg16(weights=VGG16_Weights.IMAGENET1K_V1)\n",
    "model = model.features\n",
    "\n",
    "# (3-2) 모델에 글로벌 평균 풀링 계층 추가\n",
    "model.global_avg_pool2d = nn.AdaptiveAvgPool2d(output_size=(1,1))\n",
    "\n",
    "# 모델 요약 정보 출력\n",
    "summary_model(model)"
   ]
  },
  {
   "cell_type": "markdown",
   "id": "9aebcbf2",
   "metadata": {
    "id": "VAHdJHJB37oU",
    "papermill": {
     "duration": 0.010336,
     "end_time": "2024-08-26T17:31:40.468705",
     "exception": false,
     "start_time": "2024-08-26T17:31:40.458369",
     "status": "completed"
    },
    "tags": []
   },
   "source": [
    "## **(2) VGG16 특징 추출기를 동결시키기**\n",
    "1. 계산 비용 절감:\n",
    "    - 모델의 일부 파라미터를 동결하면 그 부분은 학습되지 않기 때문에 계산량이 줄어듭니다.\n",
    "\n",
    "    - 이는 학습 속도를 빠르게 하고, GPU 메모리 사용량을 줄이는 데 도움이 됩니다.\n",
    "\n",
    "2. 오버피팅 방지:\n",
    "    - 작은 데이터셋을 사용할 때 모델이 쉽게 오버피팅될 수 있습니다.\n",
    "    \n",
    "    - 이미 학습된 파라미터를 동결하면 모델이 새로운 데이터에 맞춰 과도하게 학습되는 것을 방지할 수 있습니다.\n",
    "\n",
    "\n",
    "3. 전이 학습(Transfer Learning):\n",
    "    - 사전 학습된 모델(예: ImageNet 데이터셋으로 학습된 모델)의 초반 레이어는 일반적인 특징(예: 에지, 텍스처 등)을 잘 잡아냅니다.\n",
    "\n",
    "    - 이러한 특징을 이용하면 새로운 데이터셋에서도 좋은 성능을 낼 수 있습니다.\n",
    "\n",
    "    - 모델의 후반 레이어만 재학습하여 새로운 데이터셋에 맞출 수 있습니다.\n",
    "\n",
    "4. 더 빠른 수렴:\n",
    "    - 동결된 파라미터는 변화하지 않으므로 모델이 더 빠르게 수렴할 수 있습니다.\n",
    "    \n",
    "    - 이는 전체 학습 시간을 단축시키는 데 도움이 됩니다."
   ]
  },
  {
   "cell_type": "code",
   "execution_count": 10,
   "id": "630fa905",
   "metadata": {
    "execution": {
     "iopub.execute_input": "2024-08-26T17:31:40.490899Z",
     "iopub.status.busy": "2024-08-26T17:31:40.490306Z",
     "iopub.status.idle": "2024-08-26T17:31:40.501550Z",
     "shell.execute_reply": "2024-08-26T17:31:40.500283Z"
    },
    "id": "zHRPGXdm37oU",
    "outputId": "69fa704f-4019-4595-ec45-1291b0d8af0e",
    "papermill": {
     "duration": 0.024595,
     "end_time": "2024-08-26T17:31:40.503554",
     "exception": false,
     "start_time": "2024-08-26T17:31:40.478959",
     "status": "completed"
    },
    "tags": []
   },
   "outputs": [
    {
     "name": "stdout",
     "output_type": "stream",
     "text": [
      "----------------------------------------------------------------\n",
      "        Layer (type)               Output Shape         Param #\n",
      "================================================================\n",
      "            Conv2d-1           [-1, 64, 32, 32]           1,792\n",
      "              ReLU-2           [-1, 64, 32, 32]               0\n",
      "            Conv2d-3           [-1, 64, 32, 32]          36,928\n",
      "              ReLU-4           [-1, 64, 32, 32]               0\n",
      "         MaxPool2d-5           [-1, 64, 16, 16]               0\n",
      "            Conv2d-6          [-1, 128, 16, 16]          73,856\n",
      "              ReLU-7          [-1, 128, 16, 16]               0\n",
      "            Conv2d-8          [-1, 128, 16, 16]         147,584\n",
      "              ReLU-9          [-1, 128, 16, 16]               0\n",
      "        MaxPool2d-10            [-1, 128, 8, 8]               0\n",
      "           Conv2d-11            [-1, 256, 8, 8]         295,168\n",
      "             ReLU-12            [-1, 256, 8, 8]               0\n",
      "           Conv2d-13            [-1, 256, 8, 8]         590,080\n",
      "             ReLU-14            [-1, 256, 8, 8]               0\n",
      "           Conv2d-15            [-1, 256, 8, 8]         590,080\n",
      "             ReLU-16            [-1, 256, 8, 8]               0\n",
      "        MaxPool2d-17            [-1, 256, 4, 4]               0\n",
      "           Conv2d-18            [-1, 512, 4, 4]       1,180,160\n",
      "             ReLU-19            [-1, 512, 4, 4]               0\n",
      "           Conv2d-20            [-1, 512, 4, 4]       2,359,808\n",
      "             ReLU-21            [-1, 512, 4, 4]               0\n",
      "           Conv2d-22            [-1, 512, 4, 4]       2,359,808\n",
      "             ReLU-23            [-1, 512, 4, 4]               0\n",
      "        MaxPool2d-24            [-1, 512, 2, 2]               0\n",
      "           Conv2d-25            [-1, 512, 2, 2]       2,359,808\n",
      "             ReLU-26            [-1, 512, 2, 2]               0\n",
      "           Conv2d-27            [-1, 512, 2, 2]       2,359,808\n",
      "             ReLU-28            [-1, 512, 2, 2]               0\n",
      "           Conv2d-29            [-1, 512, 2, 2]       2,359,808\n",
      "             ReLU-30            [-1, 512, 2, 2]               0\n",
      "        MaxPool2d-31            [-1, 512, 1, 1]               0\n",
      "AdaptiveAvgPool2d-32            [-1, 512, 1, 1]               0\n",
      "================================================================\n",
      "Total params: 14,714,688\n",
      "Trainable params: 12,979,200\n",
      "Non-trainable params: 1,735,488\n",
      "----------------------------------------------------------------\n",
      "Input size (MB): 0.01\n",
      "Forward/backward pass size (MB): 4.46\n",
      "Params size (MB): 56.13\n",
      "Estimated Total Size (MB): 60.60\n",
      "----------------------------------------------------------------\n"
     ]
    }
   ],
   "source": [
    "# 모델의 앞부분 파라미터 고정 (동결)\n",
    "for para in model[:-16].parameters():\n",
    "    para.requires_grad = False\n",
    "\n",
    "# 파라미터 동결 후 모델 요약 정보 출력\n",
    "summary_model(model)"
   ]
  },
  {
   "cell_type": "markdown",
   "id": "d23c9b31",
   "metadata": {
    "id": "fJscwkeW37oU",
    "papermill": {
     "duration": 0.010288,
     "end_time": "2024-08-26T17:31:40.524758",
     "exception": false,
     "start_time": "2024-08-26T17:31:40.514470",
     "status": "completed"
    },
    "tags": []
   },
   "source": [
    "## **(3) VGG16 분류기를 만들기**"
   ]
  },
  {
   "cell_type": "code",
   "execution_count": 11,
   "id": "9cb0ef86",
   "metadata": {
    "execution": {
     "iopub.execute_input": "2024-08-26T17:31:40.546709Z",
     "iopub.status.busy": "2024-08-26T17:31:40.546428Z",
     "iopub.status.idle": "2024-08-26T17:31:40.587579Z",
     "shell.execute_reply": "2024-08-26T17:31:40.586095Z"
    },
    "id": "bATGRIBi37oU",
    "outputId": "20496e5e-f7f7-4a2b-a61e-2e72f0fd4109",
    "papermill": {
     "duration": 0.054268,
     "end_time": "2024-08-26T17:31:40.589510",
     "exception": false,
     "start_time": "2024-08-26T17:31:40.535242",
     "status": "completed"
    },
    "tags": []
   },
   "outputs": [
    {
     "name": "stdout",
     "output_type": "stream",
     "text": [
      "----------------------------------------------------------------\n",
      "        Layer (type)               Output Shape         Param #\n",
      "================================================================\n",
      "            Conv2d-1           [-1, 64, 32, 32]           1,792\n",
      "              ReLU-2           [-1, 64, 32, 32]               0\n",
      "            Conv2d-3           [-1, 64, 32, 32]          36,928\n",
      "              ReLU-4           [-1, 64, 32, 32]               0\n",
      "         MaxPool2d-5           [-1, 64, 16, 16]               0\n",
      "            Conv2d-6          [-1, 128, 16, 16]          73,856\n",
      "              ReLU-7          [-1, 128, 16, 16]               0\n",
      "            Conv2d-8          [-1, 128, 16, 16]         147,584\n",
      "              ReLU-9          [-1, 128, 16, 16]               0\n",
      "        MaxPool2d-10            [-1, 128, 8, 8]               0\n",
      "           Conv2d-11            [-1, 256, 8, 8]         295,168\n",
      "             ReLU-12            [-1, 256, 8, 8]               0\n",
      "           Conv2d-13            [-1, 256, 8, 8]         590,080\n",
      "             ReLU-14            [-1, 256, 8, 8]               0\n",
      "           Conv2d-15            [-1, 256, 8, 8]         590,080\n",
      "             ReLU-16            [-1, 256, 8, 8]               0\n",
      "        MaxPool2d-17            [-1, 256, 4, 4]               0\n",
      "           Conv2d-18            [-1, 512, 4, 4]       1,180,160\n",
      "             ReLU-19            [-1, 512, 4, 4]               0\n",
      "           Conv2d-20            [-1, 512, 4, 4]       2,359,808\n",
      "             ReLU-21            [-1, 512, 4, 4]               0\n",
      "           Conv2d-22            [-1, 512, 4, 4]       2,359,808\n",
      "             ReLU-23            [-1, 512, 4, 4]               0\n",
      "        MaxPool2d-24            [-1, 512, 2, 2]               0\n",
      "           Conv2d-25            [-1, 512, 2, 2]       2,359,808\n",
      "             ReLU-26            [-1, 512, 2, 2]               0\n",
      "           Conv2d-27            [-1, 512, 2, 2]       2,359,808\n",
      "             ReLU-28            [-1, 512, 2, 2]               0\n",
      "           Conv2d-29            [-1, 512, 2, 2]       2,359,808\n",
      "             ReLU-30            [-1, 512, 2, 2]               0\n",
      "        MaxPool2d-31            [-1, 512, 1, 1]               0\n",
      "AdaptiveAvgPool2d-32            [-1, 512, 1, 1]               0\n",
      "          Flatten-33                  [-1, 512]               0\n",
      "           Linear-34                   [-1, 25]          12,825\n",
      "================================================================\n",
      "Total params: 14,727,513\n",
      "Trainable params: 12,992,025\n",
      "Non-trainable params: 1,735,488\n",
      "----------------------------------------------------------------\n",
      "Input size (MB): 0.01\n",
      "Forward/backward pass size (MB): 4.47\n",
      "Params size (MB): 56.18\n",
      "Estimated Total Size (MB): 60.66\n",
      "----------------------------------------------------------------\n"
     ]
    }
   ],
   "source": [
    "# (4-1) 새로운 분류기 정의\n",
    "classifier = nn.Sequential(\n",
    "    # 25개의 클래스로 분류\n",
    "    nn.Flatten(),\n",
    "    nn.Linear(in_features=512, out_features=25, bias=True)\n",
    ")\n",
    "\n",
    "# (4-2) 모델에 새로운 분류기 추가\n",
    "model.classifier = classifier\n",
    "\n",
    "\n",
    "# 모델을 장치로 이동\n",
    "model = model.to(device)\n",
    "\n",
    "# 최종 모델 요약 정보 출력\n",
    "summary_model(model)"
   ]
  },
  {
   "cell_type": "markdown",
   "id": "fb6037a4",
   "metadata": {
    "id": "TWfRetvU37oU",
    "papermill": {
     "duration": 0.010446,
     "end_time": "2024-08-26T17:31:40.610491",
     "exception": false,
     "start_time": "2024-08-26T17:31:40.600045",
     "status": "completed"
    },
    "tags": []
   },
   "source": [
    "# **3. 학습**"
   ]
  },
  {
   "cell_type": "code",
   "execution_count": 12,
   "id": "eae20762",
   "metadata": {
    "execution": {
     "iopub.execute_input": "2024-08-26T17:31:40.632512Z",
     "iopub.status.busy": "2024-08-26T17:31:40.632241Z",
     "iopub.status.idle": "2024-08-26T17:31:40.637345Z",
     "shell.execute_reply": "2024-08-26T17:31:40.636554Z"
    },
    "id": "LXU_zPLQ37oU",
    "outputId": "4ca4cc97-ac12-4f09-9615-107024be0062",
    "papermill": {
     "duration": 0.018328,
     "end_time": "2024-08-26T17:31:40.639293",
     "exception": false,
     "start_time": "2024-08-26T17:31:40.620965",
     "status": "completed"
    },
    "tags": []
   },
   "outputs": [
    {
     "name": "stdout",
     "output_type": "stream",
     "text": [
      "ImageClassification(\n",
      "    crop_size=[224]\n",
      "    resize_size=[32]\n",
      "    mean=[0.485, 0.456, 0.406]\n",
      "    std=[0.229, 0.224, 0.225]\n",
      "    interpolation=InterpolationMode.BILINEAR\n",
      ")\n"
     ]
    }
   ],
   "source": [
    "# VGG16에서 사용한 transform을 이용\n",
    "transform = VGG16_Weights.DEFAULT.transforms(antialias=False)\n",
    "\n",
    "# resize 크기는 32가 되도록 설정\n",
    "transform.resize_size=[32]\n",
    "\n",
    "# transform 확인하기\n",
    "print(transform)"
   ]
  },
  {
   "cell_type": "code",
   "execution_count": 13,
   "id": "dbcd3910",
   "metadata": {
    "execution": {
     "iopub.execute_input": "2024-08-26T17:31:40.662150Z",
     "iopub.status.busy": "2024-08-26T17:31:40.661828Z",
     "iopub.status.idle": "2024-08-26T18:03:32.976779Z",
     "shell.execute_reply": "2024-08-26T18:03:32.975806Z"
    },
    "id": "9ME6aNIX37oU",
    "outputId": "849b60c8-96db-42e8-e26e-f2f6b6bfafb4",
    "papermill": {
     "duration": 1912.328776,
     "end_time": "2024-08-26T18:03:32.979116",
     "exception": false,
     "start_time": "2024-08-26T17:31:40.650340",
     "status": "completed"
    },
    "tags": []
   },
   "outputs": [
    {
     "name": "stdout",
     "output_type": "stream",
     "text": [
      "Epoch 1/10\n"
     ]
    },
    {
     "name": "stderr",
     "output_type": "stream",
     "text": [
      "100%|██████████| 429/429 [03:07<00:00,  2.29it/s]\n"
     ]
    },
    {
     "name": "stdout",
     "output_type": "stream",
     "text": [
      "CheckPoint : model_state_dict_epoch_1.pth\n",
      "train_loss : 0.9095393279719325, train_acc : 0.7709425990675991\n",
      "\n",
      "Epoch 2/10\n"
     ]
    },
    {
     "name": "stderr",
     "output_type": "stream",
     "text": [
      "100%|██████████| 429/429 [03:11<00:00,  2.24it/s]\n"
     ]
    },
    {
     "name": "stdout",
     "output_type": "stream",
     "text": [
      "CheckPoint : model_state_dict_epoch_2.pth\n",
      "train_loss : 0.029261761195176133, train_acc : 0.9956293706293706\n",
      "\n",
      "Epoch 3/10\n"
     ]
    },
    {
     "name": "stderr",
     "output_type": "stream",
     "text": [
      "100%|██████████| 429/429 [03:11<00:00,  2.24it/s]\n"
     ]
    },
    {
     "name": "stdout",
     "output_type": "stream",
     "text": [
      "CheckPoint : model_state_dict_epoch_3.pth\n",
      "train_loss : 0.003817770001098583, train_acc : 0.9999271561771562\n",
      "\n",
      "Epoch 4/10\n"
     ]
    },
    {
     "name": "stderr",
     "output_type": "stream",
     "text": [
      "100%|██████████| 429/429 [03:11<00:00,  2.24it/s]\n"
     ]
    },
    {
     "name": "stdout",
     "output_type": "stream",
     "text": [
      "CheckPoint : model_state_dict_epoch_4.pth\n",
      "train_loss : 0.0013477578426772047, train_acc : 1.0\n",
      "\n",
      "Epoch 5/10\n"
     ]
    },
    {
     "name": "stderr",
     "output_type": "stream",
     "text": [
      "100%|██████████| 429/429 [03:11<00:00,  2.24it/s]\n"
     ]
    },
    {
     "name": "stdout",
     "output_type": "stream",
     "text": [
      "CheckPoint : model_state_dict_epoch_5.pth\n",
      "train_loss : 0.022984517342777323, train_acc : 0.9937718531468531\n",
      "\n",
      "Epoch 6/10\n"
     ]
    },
    {
     "name": "stderr",
     "output_type": "stream",
     "text": [
      "100%|██████████| 429/429 [03:11<00:00,  2.24it/s]\n"
     ]
    },
    {
     "name": "stdout",
     "output_type": "stream",
     "text": [
      "CheckPoint : model_state_dict_epoch_6.pth\n",
      "train_loss : 0.0013560602384070444, train_acc : 0.9998178904428905\n",
      "\n",
      "Epoch 7/10\n"
     ]
    },
    {
     "name": "stderr",
     "output_type": "stream",
     "text": [
      "100%|██████████| 429/429 [03:11<00:00,  2.24it/s]\n"
     ]
    },
    {
     "name": "stdout",
     "output_type": "stream",
     "text": [
      "CheckPoint : model_state_dict_epoch_7.pth\n",
      "train_loss : 0.0002852738118939572, train_acc : 1.0\n",
      "\n",
      "Epoch 8/10\n"
     ]
    },
    {
     "name": "stderr",
     "output_type": "stream",
     "text": [
      "100%|██████████| 429/429 [03:11<00:00,  2.24it/s]\n"
     ]
    },
    {
     "name": "stdout",
     "output_type": "stream",
     "text": [
      "CheckPoint : model_state_dict_epoch_8.pth\n",
      "train_loss : 0.00016599431091678435, train_acc : 1.0\n",
      "\n",
      "Epoch 9/10\n"
     ]
    },
    {
     "name": "stderr",
     "output_type": "stream",
     "text": [
      "100%|██████████| 429/429 [03:11<00:00,  2.24it/s]\n"
     ]
    },
    {
     "name": "stdout",
     "output_type": "stream",
     "text": [
      "CheckPoint : model_state_dict_epoch_9.pth\n",
      "train_loss : 0.00010377747836461836, train_acc : 1.0\n",
      "\n",
      "Epoch 10/10\n"
     ]
    },
    {
     "name": "stderr",
     "output_type": "stream",
     "text": [
      "100%|██████████| 429/429 [03:11<00:00,  2.24it/s]"
     ]
    },
    {
     "name": "stdout",
     "output_type": "stream",
     "text": [
      "CheckPoint : model_state_dict_epoch_10.pth\n",
      "train_loss : 7.799037842663159e-05, train_acc : 1.0\n",
      "\n"
     ]
    },
    {
     "name": "stderr",
     "output_type": "stream",
     "text": [
      "\n"
     ]
    }
   ],
   "source": [
    "def train(train_dataloader, model, device, args):\n",
    "    \"\"\"\n",
    "    주어진 데이터로 모델을 학습시키는 함수입니다.\n",
    "\n",
    "    Args:\n",
    "        train_dataloader (DataLoader): 학습 데이터를 제공하는 DataLoader 객체\n",
    "        valid_dataloader (DataLoader): 검증 데이터를 제공하는 DataLoader 객체\n",
    "        model (torch.nn.Module): 학습할 모델\n",
    "        device (torch.device): 사용할 디바이스 (CPU 또는 GPU)\n",
    "        args (dict): 학습 관련 인자들을 포함한 딕셔너리\n",
    "\n",
    "    Returns:\n",
    "        None\n",
    "    \"\"\"\n",
    "\n",
    "    # (5-1) Adam 옵티마이저와 교차 엔트로피 손실 함수 정의\n",
    "    optimizer = torch.optim.Adam(model.parameters(), lr=args[\"lr\"])\n",
    "    loss_fn = nn.CrossEntropyLoss()\n",
    "\n",
    "    model.zero_grad()  # 모델의 그래디언트 초기화\n",
    "\n",
    "    for epoch in range(args[\"epochs\"]):\n",
    "        model.train()       # 모델을 훈련 모드로 설정\n",
    "\n",
    "        total_loss = 0      # 전체 손실 초기화\n",
    "        total_accuracy = 0  # 전체 정확도 초기화\n",
    "\n",
    "        print(f'Epoch {epoch + 1}/{args[\"epochs\"]}')\n",
    "\n",
    "        for image, label in tqdm(train_dataloader):\n",
    "            image = transform(image).to(device)\n",
    "            label = label.to(device)\n",
    "\n",
    "            # (5-2) 모델을 사용하여 예측 수행\n",
    "            pred = model(image)\n",
    "            # (5-3) 손실 계산 및 누적\n",
    "            loss = loss_fn(pred, label.squeeze().long())\n",
    "\n",
    "            # (5-4) 역전파를 통해 기울기 계산\n",
    "            loss.backward()\n",
    "\n",
    "            # (5-5) 파라미터 업데이트\n",
    "            optimizer.step()\n",
    "\n",
    "            # (5-6) 모델의 그래디언트 초기화\n",
    "            optimizer.zero_grad()\n",
    "\n",
    "            # loss 계산\n",
    "            total_loss += loss.item()\n",
    "\n",
    "            # accaracy 계산\n",
    "            label = label.cpu()\n",
    "            pred = pred.argmax(dim = 1).cpu()\n",
    "            accuracy = accuracy_score(label, pred)\n",
    "            total_accuracy += accuracy\n",
    "\n",
    "        # 평균 손실과 정확도 계산\n",
    "        avg_loss = total_loss / len(train_dataloader)\n",
    "        avg_accuracy = total_accuracy / len(train_dataloader)\n",
    "        # 모델 체크포인트 저장\n",
    "        \"\"\"\n",
    "        os.makedirs(\"results\", exist_ok=True)\n",
    "        torch.save({\n",
    "            'epoch': epoch,\n",
    "            'model': model,\n",
    "            'model_state_dict': model.state_dict(),\n",
    "            'optimizer_state_dict': optimizer.state_dict(),\n",
    "            'loss': loss.item,\n",
    "            }, f'./results/model_state_dict_epoch_{epoch+1}.pth')\n",
    "        \"\"\"\n",
    "        # 현재 에포크의 손실과 정확도 출력\n",
    "        print(f'CheckPoint : model_state_dict_epoch_{epoch+1}.pth')\n",
    "        print(f'train_loss : {avg_loss}, train_acc : {avg_accuracy}\\n')\n",
    "\n",
    "\n",
    "if __name__ == \"__main__\":\n",
    "    train(train_dataloader, model, device, args)"
   ]
  },
  {
   "cell_type": "markdown",
   "id": "ff0af342",
   "metadata": {
    "id": "61mzlX5i37oU",
    "papermill": {
     "duration": 0.345754,
     "end_time": "2024-08-26T18:03:33.673994",
     "exception": false,
     "start_time": "2024-08-26T18:03:33.328240",
     "status": "completed"
    },
    "tags": []
   },
   "source": [
    "# **4. 평가**"
   ]
  },
  {
   "cell_type": "code",
   "execution_count": 14,
   "id": "124f7071",
   "metadata": {
    "execution": {
     "iopub.execute_input": "2024-08-26T18:03:34.353314Z",
     "iopub.status.busy": "2024-08-26T18:03:34.352954Z",
     "iopub.status.idle": "2024-08-26T18:04:30.590457Z",
     "shell.execute_reply": "2024-08-26T18:04:30.589453Z"
    },
    "id": "u74l9AWe37oU",
    "papermill": {
     "duration": 56.578475,
     "end_time": "2024-08-26T18:04:30.593249",
     "exception": false,
     "start_time": "2024-08-26T18:03:34.014774",
     "status": "completed"
    },
    "tags": []
   },
   "outputs": [
    {
     "name": "stderr",
     "output_type": "stream",
     "text": [
      "100%|██████████| 7172/7172 [00:56<00:00, 127.56it/s]\n"
     ]
    }
   ],
   "source": [
    "def test(test_dataloader, model, device):\n",
    "    \"\"\"\n",
    "    모델의 테스트를 수행하는 함수입니다.\n",
    "\n",
    "    Args:\n",
    "        test_dataloader (DataLoader): 테스트 데이터를 제공하는 DataLoader 객체\n",
    "        model (torch.nn.Module): 평가할 모델\n",
    "        device (torch.device): 사용할 디바이스 (CPU 또는 GPU)\n",
    "\n",
    "    Returns:\n",
    "        preds (list): 각 입력 예시에 대한 모델의 예측 결과 리스트\n",
    "    \"\"\"\n",
    "    model.eval()    # 모델을 평가 모드로 설정\n",
    "    preds = []      # 예측 결과를 저장할 리스트\n",
    "\n",
    "    # 각 배치에 대해 예측 수행\n",
    "    for image in tqdm(test_dataloader):\n",
    "        image = transform(image[0]).to(device)\n",
    "\n",
    "        # 기울기 계산을 비활성화하여 예측 수행\n",
    "        with torch.no_grad():\n",
    "            # (6-1) 모델에 입력을 전달하여 예측 수행\n",
    "            pred = model(image)\n",
    "\n",
    "            # (6-2) argmax를 이용하여 예측 결과에서 가장 높은 값의 인덱스를 선택\n",
    "            pred = pred.argmax(dim = 1)\n",
    "\n",
    "            # (6-3) 예측 결과를 CPU로 이동\n",
    "            pred = pred.cpu()\n",
    "\n",
    "            # (6-4) 예측을 numpy 배열로 변환\n",
    "            pred = pred.numpy()\n",
    "\n",
    "            # (6-5) 예측 결과를 리스트에 추가\n",
    "            preds.extend(pred)\n",
    "\n",
    "    return preds\n",
    "\n",
    "\n",
    "if __name__ == \"__main__\":\n",
    "    # 예측값을 얻기 위해 test 함수 호출\n",
    "    preds = test(test_dataloader, model, device)\n"
   ]
  },
  {
   "cell_type": "code",
   "execution_count": 15,
   "id": "539748e4",
   "metadata": {
    "execution": {
     "iopub.execute_input": "2024-08-26T18:04:31.360805Z",
     "iopub.status.busy": "2024-08-26T18:04:31.360179Z",
     "iopub.status.idle": "2024-08-26T18:04:31.419774Z",
     "shell.execute_reply": "2024-08-26T18:04:31.419054Z"
    },
    "id": "G5BRPNjK37oV",
    "papermill": {
     "duration": 0.442936,
     "end_time": "2024-08-26T18:04:31.422123",
     "exception": false,
     "start_time": "2024-08-26T18:04:30.979187",
     "status": "completed"
    },
    "tags": []
   },
   "outputs": [],
   "source": [
    "submit = pd.read_csv(args[\"submit_path\"])\n",
    "submit[\"label\"] = preds\n",
    "submit.to_csv(\"submission_p1.csv\", index = False)"
   ]
  },
  {
   "cell_type": "code",
   "execution_count": 16,
   "id": "b97dc112",
   "metadata": {
    "execution": {
     "iopub.execute_input": "2024-08-26T18:04:32.205238Z",
     "iopub.status.busy": "2024-08-26T18:04:32.204884Z",
     "iopub.status.idle": "2024-08-26T18:04:32.220959Z",
     "shell.execute_reply": "2024-08-26T18:04:32.220098Z"
    },
    "id": "420NoojZ37oV",
    "papermill": {
     "duration": 0.418938,
     "end_time": "2024-08-26T18:04:32.222881",
     "exception": false,
     "start_time": "2024-08-26T18:04:31.803943",
     "status": "completed"
    },
    "tags": []
   },
   "outputs": [
    {
     "data": {
      "text/html": [
       "<div>\n",
       "<style scoped>\n",
       "    .dataframe tbody tr th:only-of-type {\n",
       "        vertical-align: middle;\n",
       "    }\n",
       "\n",
       "    .dataframe tbody tr th {\n",
       "        vertical-align: top;\n",
       "    }\n",
       "\n",
       "    .dataframe thead th {\n",
       "        text-align: right;\n",
       "    }\n",
       "</style>\n",
       "<table border=\"1\" class=\"dataframe\">\n",
       "  <thead>\n",
       "    <tr style=\"text-align: right;\">\n",
       "      <th></th>\n",
       "      <th>id</th>\n",
       "      <th>label</th>\n",
       "    </tr>\n",
       "  </thead>\n",
       "  <tbody>\n",
       "    <tr>\n",
       "      <th>0</th>\n",
       "      <td>0</td>\n",
       "      <td>6</td>\n",
       "    </tr>\n",
       "    <tr>\n",
       "      <th>1</th>\n",
       "      <td>1</td>\n",
       "      <td>5</td>\n",
       "    </tr>\n",
       "    <tr>\n",
       "      <th>2</th>\n",
       "      <td>2</td>\n",
       "      <td>10</td>\n",
       "    </tr>\n",
       "    <tr>\n",
       "      <th>3</th>\n",
       "      <td>3</td>\n",
       "      <td>0</td>\n",
       "    </tr>\n",
       "    <tr>\n",
       "      <th>4</th>\n",
       "      <td>4</td>\n",
       "      <td>3</td>\n",
       "    </tr>\n",
       "    <tr>\n",
       "      <th>...</th>\n",
       "      <td>...</td>\n",
       "      <td>...</td>\n",
       "    </tr>\n",
       "    <tr>\n",
       "      <th>7167</th>\n",
       "      <td>7167</td>\n",
       "      <td>1</td>\n",
       "    </tr>\n",
       "    <tr>\n",
       "      <th>7168</th>\n",
       "      <td>7168</td>\n",
       "      <td>12</td>\n",
       "    </tr>\n",
       "    <tr>\n",
       "      <th>7169</th>\n",
       "      <td>7169</td>\n",
       "      <td>2</td>\n",
       "    </tr>\n",
       "    <tr>\n",
       "      <th>7170</th>\n",
       "      <td>7170</td>\n",
       "      <td>4</td>\n",
       "    </tr>\n",
       "    <tr>\n",
       "      <th>7171</th>\n",
       "      <td>7171</td>\n",
       "      <td>2</td>\n",
       "    </tr>\n",
       "  </tbody>\n",
       "</table>\n",
       "<p>7172 rows × 2 columns</p>\n",
       "</div>"
      ],
      "text/plain": [
       "        id  label\n",
       "0        0      6\n",
       "1        1      5\n",
       "2        2     10\n",
       "3        3      0\n",
       "4        4      3\n",
       "...    ...    ...\n",
       "7167  7167      1\n",
       "7168  7168     12\n",
       "7169  7169      2\n",
       "7170  7170      4\n",
       "7171  7171      2\n",
       "\n",
       "[7172 rows x 2 columns]"
      ]
     },
     "execution_count": 16,
     "metadata": {},
     "output_type": "execute_result"
    }
   ],
   "source": [
    "submit"
   ]
  }
 ],
 "metadata": {
  "accelerator": "GPU",
  "colab": {
   "gpuType": "T4",
   "provenance": []
  },
  "kaggle": {
   "accelerator": "nvidiaTeslaT4",
   "dataSources": [
    {
     "databundleVersionId": 9016062,
     "sourceId": 82514,
     "sourceType": "competition"
    }
   ],
   "dockerImageVersionId": 30746,
   "isGpuEnabled": true,
   "isInternetEnabled": true,
   "language": "python",
   "sourceType": "notebook"
  },
  "kernelspec": {
   "display_name": "Python 3",
   "language": "python",
   "name": "python3"
  },
  "language_info": {
   "codemirror_mode": {
    "name": "ipython",
    "version": 3
   },
   "file_extension": ".py",
   "mimetype": "text/x-python",
   "name": "python",
   "nbconvert_exporter": "python",
   "pygments_lexer": "ipython3",
   "version": "3.9.6"
  },
  "papermill": {
   "default_parameters": {},
   "duration": 2008.99024,
   "end_time": "2024-08-26T18:04:34.231660",
   "environment_variables": {},
   "exception": null,
   "input_path": "__notebook__.ipynb",
   "output_path": "__notebook__.ipynb",
   "parameters": {},
   "start_time": "2024-08-26T17:31:05.241420",
   "version": "2.5.0"
  }
 },
 "nbformat": 4,
 "nbformat_minor": 5
}
